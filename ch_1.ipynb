{
 "cells": [
  {
   "cell_type": "markdown",
   "id": "0f95bccf",
   "metadata": {},
   "source": [
    "### Exercise 1.1"
   ]
  },
  {
   "cell_type": "markdown",
   "id": "ca1c98f8",
   "metadata": {},
   "source": [
    "1.In a print statement, what happens if you leave out one of the parentheses, or both?"
   ]
  },
  {
   "cell_type": "code",
   "execution_count": 1,
   "id": "66da3b4d",
   "metadata": {},
   "outputs": [
    {
     "ename": "SyntaxError",
     "evalue": "unexpected EOF while parsing (3528752009.py, line 1)",
     "output_type": "error",
     "traceback": [
      "\u001b[0;36m  File \u001b[0;32m\"/tmp/ipykernel_25086/3528752009.py\"\u001b[0;36m, line \u001b[0;32m1\u001b[0m\n\u001b[0;31m    print(\"hellow world \"\u001b[0m\n\u001b[0m                         ^\u001b[0m\n\u001b[0;31mSyntaxError\u001b[0m\u001b[0;31m:\u001b[0m unexpected EOF while parsing\n"
     ]
    }
   ],
   "source": [
    "print(\"hellow world \" "
   ]
  },
  {
   "cell_type": "markdown",
   "id": "16c1c3ef",
   "metadata": {},
   "source": [
    "2. If you are trying to print a string, what happens if you leave out one of the quotation marks, or both?"
   ]
  },
  {
   "cell_type": "code",
   "execution_count": 2,
   "id": "4cd37e23",
   "metadata": {},
   "outputs": [
    {
     "ename": "SyntaxError",
     "evalue": "EOL while scanning string literal (301017523.py, line 1)",
     "output_type": "error",
     "traceback": [
      "\u001b[0;36m  File \u001b[0;32m\"/tmp/ipykernel_25086/301017523.py\"\u001b[0;36m, line \u001b[0;32m1\u001b[0m\n\u001b[0;31m    print(\"This will also throw an error)\u001b[0m\n\u001b[0m                                         ^\u001b[0m\n\u001b[0;31mSyntaxError\u001b[0m\u001b[0;31m:\u001b[0m EOL while scanning string literal\n"
     ]
    }
   ],
   "source": [
    "print(\"This will also throw an error)"
   ]
  },
  {
   "cell_type": "markdown",
   "id": "7ec6c745",
   "metadata": {},
   "source": [
    "3. You can use a minus sign to make a negative number like -2. What happens if you put a plus sign before a number? What about 2++2?"
   ]
  },
  {
   "cell_type": "code",
   "execution_count": 3,
   "id": "b1a0953e",
   "metadata": {},
   "outputs": [
    {
     "data": {
      "text/plain": [
       "-2"
      ]
     },
     "execution_count": 3,
     "metadata": {},
     "output_type": "execute_result"
    }
   ],
   "source": [
    "-2"
   ]
  },
  {
   "cell_type": "code",
   "execution_count": 4,
   "id": "03fd5f84",
   "metadata": {},
   "outputs": [
    {
     "data": {
      "text/plain": [
       "2"
      ]
     },
     "execution_count": 4,
     "metadata": {},
     "output_type": "execute_result"
    }
   ],
   "source": [
    "+2"
   ]
  },
  {
   "cell_type": "code",
   "execution_count": 5,
   "id": "dfc9510f",
   "metadata": {},
   "outputs": [
    {
     "data": {
      "text/plain": [
       "4"
      ]
     },
     "execution_count": 5,
     "metadata": {},
     "output_type": "execute_result"
    }
   ],
   "source": [
    "2++2"
   ]
  },
  {
   "cell_type": "markdown",
   "id": "e54b9d36",
   "metadata": {},
   "source": [
    "4. In math notation, leading zeros are ok, as in 09. What happens if you try this in Python? What about 011?"
   ]
  },
  {
   "cell_type": "code",
   "execution_count": 8,
   "id": "c3c4e3d9",
   "metadata": {},
   "outputs": [
    {
     "ename": "SyntaxError",
     "evalue": "leading zeros in decimal integer literals are not permitted; use an 0o prefix for octal integers (690730769.py, line 1)",
     "output_type": "error",
     "traceback": [
      "\u001b[0;36m  File \u001b[0;32m\"/tmp/ipykernel_25086/690730769.py\"\u001b[0;36m, line \u001b[0;32m1\u001b[0m\n\u001b[0;31m    09\u001b[0m\n\u001b[0m     ^\u001b[0m\n\u001b[0;31mSyntaxError\u001b[0m\u001b[0;31m:\u001b[0m leading zeros in decimal integer literals are not permitted; use an 0o prefix for octal integers\n"
     ]
    }
   ],
   "source": [
    "09"
   ]
  },
  {
   "cell_type": "code",
   "execution_count": 9,
   "id": "f99f9c39",
   "metadata": {},
   "outputs": [
    {
     "ename": "SyntaxError",
     "evalue": "leading zeros in decimal integer literals are not permitted; use an 0o prefix for octal integers (848613104.py, line 1)",
     "output_type": "error",
     "traceback": [
      "\u001b[0;36m  File \u001b[0;32m\"/tmp/ipykernel_25086/848613104.py\"\u001b[0;36m, line \u001b[0;32m1\u001b[0m\n\u001b[0;31m    001\u001b[0m\n\u001b[0m      ^\u001b[0m\n\u001b[0;31mSyntaxError\u001b[0m\u001b[0;31m:\u001b[0m leading zeros in decimal integer literals are not permitted; use an 0o prefix for octal integers\n"
     ]
    }
   ],
   "source": [
    "001"
   ]
  },
  {
   "cell_type": "markdown",
   "id": "c9c8dd96",
   "metadata": {},
   "source": [
    "5.What happens if you have two values with no operator between them?\n"
   ]
  },
  {
   "cell_type": "code",
   "execution_count": 13,
   "id": "e30a6f53",
   "metadata": {},
   "outputs": [
    {
     "ename": "SyntaxError",
     "evalue": "invalid syntax (2517109160.py, line 1)",
     "output_type": "error",
     "traceback": [
      "\u001b[0;36m  File \u001b[0;32m\"/tmp/ipykernel_25086/2517109160.py\"\u001b[0;36m, line \u001b[0;32m1\u001b[0m\n\u001b[0;31m    6 9\u001b[0m\n\u001b[0m      ^\u001b[0m\n\u001b[0;31mSyntaxError\u001b[0m\u001b[0;31m:\u001b[0m invalid syntax\n"
     ]
    }
   ],
   "source": [
    "6 9"
   ]
  },
  {
   "cell_type": "markdown",
   "id": "933a3fdf",
   "metadata": {},
   "source": [
    "### Exercise 1.2"
   ]
  },
  {
   "cell_type": "markdown",
   "id": "7ae7d9c6",
   "metadata": {},
   "source": [
    "1. How many seconds are there in 42 minutes 42 seconds?"
   ]
  },
  {
   "cell_type": "code",
   "execution_count": 14,
   "id": "fd8823a4",
   "metadata": {},
   "outputs": [
    {
     "data": {
      "text/plain": [
       "2562"
      ]
     },
     "execution_count": 14,
     "metadata": {},
     "output_type": "execute_result"
    }
   ],
   "source": [
    "(42 * 60)+42"
   ]
  },
  {
   "cell_type": "markdown",
   "id": "fc45890a",
   "metadata": {},
   "source": [
    "2. How many miles are there in 10 kilometers? Hint: there are 1.61 kilometers in a mile."
   ]
  },
  {
   "cell_type": "code",
   "execution_count": 15,
   "id": "a49a8916",
   "metadata": {},
   "outputs": [
    {
     "data": {
      "text/plain": [
       "6.211180124223602"
      ]
     },
     "execution_count": 15,
     "metadata": {},
     "output_type": "execute_result"
    }
   ],
   "source": [
    "10/1.61"
   ]
  },
  {
   "cell_type": "markdown",
   "id": "ffef872c",
   "metadata": {},
   "source": [
    "3. If you run a 10 kilometer race in 42 minutes 42 seconds, what is your average pace (time per mile in minutes and seconds)? What is your average speed in miles per hour?"
   ]
  },
  {
   "cell_type": "code",
   "execution_count": 20,
   "id": "199e9a41",
   "metadata": {},
   "outputs": [
    {
     "data": {
      "text/plain": [
       "412.0"
      ]
     },
     "execution_count": 20,
     "metadata": {},
     "output_type": "execute_result"
    }
   ],
   "source": [
    "spm = 2562 / (10/1.61)\n",
    "spm"
   ]
  },
  {
   "cell_type": "code",
   "execution_count": 23,
   "id": "944c59e1",
   "metadata": {},
   "outputs": [
    {
     "data": {
      "text/plain": [
       "6.0"
      ]
     },
     "execution_count": 23,
     "metadata": {},
     "output_type": "execute_result"
    }
   ],
   "source": [
    "spm1 = (2562/60)//(10/1.61)\n",
    "spm1"
   ]
  },
  {
   "cell_type": "code",
   "execution_count": 33,
   "id": "8e65e919",
   "metadata": {
    "scrolled": true
   },
   "outputs": [
    {
     "data": {
      "text/plain": [
       "0.11457833333333335"
      ]
     },
     "execution_count": 33,
     "metadata": {},
     "output_type": "execute_result"
    }
   ],
   "source": [
    "spm1 = (2562/60/60)/(10/1.61)\n",
    "spm1"
   ]
  },
  {
   "cell_type": "code",
   "execution_count": 31,
   "id": "3101764c",
   "metadata": {},
   "outputs": [
    {
     "data": {
      "text/plain": [
       "0.7116666666666667"
      ]
     },
     "execution_count": 31,
     "metadata": {},
     "output_type": "execute_result"
    }
   ],
   "source": [
    "2562 / 60/60\n"
   ]
  },
  {
   "cell_type": "code",
   "execution_count": 37,
   "id": "26b20673",
   "metadata": {},
   "outputs": [
    {
     "data": {
      "text/plain": [
       "8.727653570337614"
      ]
     },
     "execution_count": 37,
     "metadata": {},
     "output_type": "execute_result"
    }
   ],
   "source": [
    "spm2=(10/1.61)/(2562/(60*60)) # Average speed in miles per hour"
   ]
  },
  {
   "cell_type": "code",
   "execution_count": null,
   "id": "eda765ce",
   "metadata": {},
   "outputs": [],
   "source": [
    "import turtle, math\n",
    "bob = turtle.Turtle()\n",
    "\n",
    "def isosceles(t, leg, base_angle, base):\n",
    "    \"\"\"Draws an isosceles triangle.\n",
    "    t is a turtle. leg is the length of the legs.\n",
    "    base is the length of the base. The two equal\n",
    "    angles are specified by base_angle.\n",
    "    \"\"\"\n",
    "\n",
    "    t.fd(leg)\n",
    "    t.lt(180 + base_angle)\n",
    "    t.fd(base)\n",
    "    t.lt(180 + base_angle)\n",
    "    t.fd(leg)\n",
    "\n",
    "def polypie(t, n, leg):\n",
    "    \"\"\"Draws a polygon composed of n isosceles\n",
    "    triangles. leg is the length of the legs of the \n",
    "    triangles. t is a turtle.\"\"\"\n",
    "    vertex_angle = 360/n\n",
    "    base_angle = (180 - vertex_angle)/2\n",
    "    base = math.sqrt(2 * (leg**2) - ((2 * (leg**2)) * math.cos(vertex_angle * (math.pi/180))))\n",
    "    for i in range(n):\n",
    "        isosceles(t, leg, base_angle, base)\n",
    "        t.rt(180 - 2 * vertex_angle)\n",
    "\n",
    "\n",
    "polypie(bob, 7, 100)\n",
    "turtle.mainloop()\n",
    "Footer\n"
   ]
  },
  {
   "cell_type": "code",
   "execution_count": null,
   "id": "33146425",
   "metadata": {},
   "outputs": [],
   "source": []
  }
 ],
 "metadata": {
  "kernelspec": {
   "display_name": "Python 3 (ipykernel)",
   "language": "python",
   "name": "python3"
  },
  "language_info": {
   "codemirror_mode": {
    "name": "ipython",
    "version": 3
   },
   "file_extension": ".py",
   "mimetype": "text/x-python",
   "name": "python",
   "nbconvert_exporter": "python",
   "pygments_lexer": "ipython3",
   "version": "3.9.13"
  }
 },
 "nbformat": 4,
 "nbformat_minor": 5
}
