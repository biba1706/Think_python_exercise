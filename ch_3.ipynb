{
 "cells": [
  {
   "cell_type": "markdown",
   "id": "e6e85972",
   "metadata": {},
   "source": [
    "### Ex-3.1"
   ]
  },
  {
   "cell_type": "markdown",
   "id": "2a772448",
   "metadata": {},
   "source": [
    "1.Write a function named right_justify that takes a string named s as a parameter and prints the string with enough leading spaces so that the last letter of the string is in column 70 of the display."
   ]
  },
  {
   "cell_type": "code",
   "execution_count": 3,
   "id": "976a4f13",
   "metadata": {},
   "outputs": [],
   "source": [
    "def right_justify(string):\n",
    "    buffer = 70 - len(string)\n",
    "    print(\" \" * buffer, string)"
   ]
  },
  {
   "cell_type": "code",
   "execution_count": 9,
   "id": "55e8c4a6",
   "metadata": {},
   "outputs": [
    {
     "name": "stdout",
     "output_type": "stream",
     "text": [
      "                                                            IlovePython\n"
     ]
    }
   ],
   "source": [
    "right_justify(\"IlovePython\")"
   ]
  },
  {
   "cell_type": "markdown",
   "id": "73e47c38",
   "metadata": {},
   "source": [
    "#### Explanaition of the code \n",
    "##### def right_justify(string):\n",
    "This line defines a function called right_justify that takes in a parameter called string. A function is like a set of instructions that can be reused whenever we want.\n",
    "\n",
    "##### buffer = 70 - len(string)\n",
    "This line creates a variable called buffer and assigns it a value. Here, we are calculating the number of spaces needed to align the string to the right within a total width of 70 characters. The len(string) function gives us the length of the string.\n",
    "\n",
    "##### print(\" \" * buffer, string)\n",
    "This line prints the string with additional spaces in front of it. The number of spaces is determined by the buffer variable we calculated earlier. We use the \" \" * buffer expression to create a string of spaces."
   ]
  },
  {
   "cell_type": "markdown",
   "id": "c56ee13d",
   "metadata": {},
   "source": [
    "#### Ex-3.2\n"
   ]
  },
  {
   "cell_type": "markdown",
   "id": "906f32d6",
   "metadata": {},
   "source": [
    "A function object is a value you can assign to a variable or pass as an argument. For example, do_twice is a function that takes a function object as an argument and calls it twice:\n",
    "\n",
    "{Python}\n",
    "def do_twice(f):\n",
    "    f()\n",
    "    f()\n",
    "Here’s an example that uses do_twice to call a function named print_spam twice.\n",
    "\n",
    "{Python}\n",
    "\n",
    "def print_spam():\n",
    "    print('spam')\n",
    "\n",
    "do_twice(print_spam)\n",
    "1.Type this example into a script and test it.\n",
    "2.Modify do_twice so that it takes two arguments, a function object and a value, and calls the function twice, passing the value as an argument.\n",
    "3.Copy the definition of print_twice from earlier in this chapter to your script.\n",
    "4.Use the modified version of do_twice to call print_twice twice, passing 'spam' as an argument.\n",
    "5.Define a new function called do_four that takes a function object and a value and calls the function four times, passing the value as a parameter. There should be only two statements in the body of this function, not four.\n"
   ]
  },
  {
   "cell_type": "code",
   "execution_count": 5,
   "id": "816d7793",
   "metadata": {},
   "outputs": [],
   "source": [
    "#1 \n",
    "def do_twice(f):\n",
    "    f()\n",
    "    f()\n",
    "    \n",
    "def print_spam():\n",
    "    print('spam')"
   ]
  },
  {
   "cell_type": "code",
   "execution_count": 6,
   "id": "58370d01",
   "metadata": {},
   "outputs": [
    {
     "name": "stdout",
     "output_type": "stream",
     "text": [
      "spam\n",
      "spam\n"
     ]
    }
   ],
   "source": [
    "do_twice(print_spam)"
   ]
  },
  {
   "cell_type": "markdown",
   "id": "a9fce7d0",
   "metadata": {},
   "source": [
    "#### Explanation\n",
    "In summary, the first part of the code defines a function do_twice that takes another function as an argument and executes it twice. The second part defines a function print_spam that prints the word 'spam' when called."
   ]
  },
  {
   "cell_type": "code",
   "execution_count": 10,
   "id": "28e693d0",
   "metadata": {},
   "outputs": [],
   "source": [
    "# 2\n",
    "\n",
    "def do_twice(f, arg):\n",
    "    f(arg)\n",
    "    f(arg)"
   ]
  },
  {
   "cell_type": "code",
   "execution_count": 13,
   "id": "d81bbc56",
   "metadata": {},
   "outputs": [
    {
     "name": "stdout",
     "output_type": "stream",
     "text": [
      "IlovePython\n",
      "IlovePython\n"
     ]
    }
   ],
   "source": [
    "do_twice(print, \"IlovePython\")"
   ]
  },
  {
   "cell_type": "markdown",
   "id": "54a4401b",
   "metadata": {},
   "source": [
    "###Explanation\n",
    "In #1 The do_twice function only takes a function f as a parameter and executes it twice without any arguments. The print_spam function is defined separately and prints the word 'spam' when called.\n",
    "\n",
    "In #2 The do_twice function takes both a function f and an argument arg as parameters. It calls the function f twice, passing the argument arg each time. In the last line, do_twice(print, \"IlovePython\") is called, which means the print function will be executed twice, with the argument \"IlovePython\"."
   ]
  },
  {
   "cell_type": "code",
   "execution_count": 14,
   "id": "b70aef5b",
   "metadata": {},
   "outputs": [],
   "source": [
    "#3\n",
    "def print_twice(bruce):\n",
    "        print(bruce)\n",
    "        print(bruce)"
   ]
  },
  {
   "cell_type": "code",
   "execution_count": 15,
   "id": "e0e9fdac",
   "metadata": {},
   "outputs": [
    {
     "name": "stdout",
     "output_type": "stream",
     "text": [
      "spam\n",
      "spam\n",
      "spam\n",
      "spam\n"
     ]
    }
   ],
   "source": [
    "#4\n",
    "do_twice(print_twice, \"spam\")"
   ]
  },
  {
   "cell_type": "code",
   "execution_count": 17,
   "id": "fd537059",
   "metadata": {},
   "outputs": [],
   "source": [
    "#5 \n",
    "def do_4xs(f, arg):\n",
    "    do_twice(f, arg)\n",
    "    do_twice(f, arg)"
   ]
  },
  {
   "cell_type": "code",
   "execution_count": 18,
   "id": "bad3c131",
   "metadata": {},
   "outputs": [
    {
     "name": "stdout",
     "output_type": "stream",
     "text": [
      "iLovePython\n",
      "iLovePython\n",
      "iLovePython\n",
      "iLovePython\n"
     ]
    }
   ],
   "source": [
    "do_4xs(print, \"iLovePython\")"
   ]
  },
  {
   "cell_type": "markdown",
   "id": "1d2d6404",
   "metadata": {},
   "source": [
    "### Ex-3.3"
   ]
  },
  {
   "cell_type": "markdown",
   "id": "84499275",
   "metadata": {},
   "source": [
    "Note: This exercise should be done using only the statements and other features we have learned so far.\n",
    "\n",
    "1. Write a function that draws a grid like the following:\n",
    "{Python}\n",
    "+ - - - - + - - - - +\n",
    "|         |         |\n",
    "|         |         |\n",
    "|         |         |\n",
    "|         |         |\n",
    "+ - - - - + - - - - +\n",
    "|         |         |\n",
    "|         |         |\n",
    "|         |         |\n",
    "|         |         |\n",
    "+ - - - - + - - - - +\n",
    "Hint: to print more than one value on a line, you can print a comma-separated sequence of values:\n",
    "\n",
    "print('+', '-') By default, print advances to the next line, but you can override that behavior and put a space at the end, like this:\n",
    "\n",
    "print('+', end=' ') print('-')\n",
    "\n",
    "The output of these statements is '+ -' on the same line. The output from the next print statement would begin on the next line."
   ]
  },
  {
   "cell_type": "code",
   "execution_count": 4,
   "id": "533b68e2",
   "metadata": {},
   "outputs": [
    {
     "name": "stdout",
     "output_type": "stream",
     "text": [
      "+ - - - - "
     ]
    }
   ],
   "source": [
    "def do_twice(f):\n",
    "    f()\n",
    "    f()\n",
    "    \n",
    "def do_4xs(f):\n",
    "    do_twice(f)\n",
    "    do_twice(f)\n",
    "\n",
    "def print_beam():\n",
    "    print('+', end = '')\n",
    "    print(' -' * 4, end = ' ')\n",
    "print_beam()"
   ]
  },
  {
   "cell_type": "code",
   "execution_count": 5,
   "id": "b30b8e98",
   "metadata": {},
   "outputs": [
    {
     "name": "stdout",
     "output_type": "stream",
     "text": [
      "+ - - - - + - - - - +\n"
     ]
    }
   ],
   "source": [
    "def print_full_beam():\n",
    "    do_twice(print_beam)\n",
    "    print('+')\n",
    "print_full_beam()"
   ]
  },
  {
   "cell_type": "code",
   "execution_count": 6,
   "id": "d5ee43c8",
   "metadata": {},
   "outputs": [
    {
     "name": "stdout",
     "output_type": "stream",
     "text": [
      "/         "
     ]
    }
   ],
   "source": [
    "def print_struct():\n",
    "    print('/', end = '')\n",
    "    print(' ' * 9, end = '')\n",
    "print_struct()"
   ]
  },
  {
   "cell_type": "code",
   "execution_count": 7,
   "id": "4bde0c74",
   "metadata": {},
   "outputs": [
    {
     "name": "stdout",
     "output_type": "stream",
     "text": [
      "/         /         /\n"
     ]
    }
   ],
   "source": [
    "def print_full_struct():\n",
    "    do_twice(print_struct)\n",
    "    print('/')\n",
    "print_full_struct()"
   ]
  },
  {
   "cell_type": "code",
   "execution_count": 8,
   "id": "a1e86d63",
   "metadata": {},
   "outputs": [],
   "source": [
    "def print_top_half():\n",
    "    print_full_beam()\n",
    "    do_4xs(print_full_struct)"
   ]
  },
  {
   "cell_type": "code",
   "execution_count": 9,
   "id": "6a456fe3",
   "metadata": {},
   "outputs": [
    {
     "name": "stdout",
     "output_type": "stream",
     "text": [
      "+ - - - - + - - - - +\n",
      "/         /         /\n",
      "/         /         /\n",
      "/         /         /\n",
      "/         /         /\n"
     ]
    }
   ],
   "source": [
    "print_top_half()"
   ]
  },
  {
   "cell_type": "code",
   "execution_count": 10,
   "id": "d693f090",
   "metadata": {},
   "outputs": [
    {
     "name": "stdout",
     "output_type": "stream",
     "text": [
      "+ - - - - + - - - - +\n",
      "/         /         /\n",
      "/         /         /\n",
      "/         /         /\n",
      "/         /         /\n",
      "+ - - - - + - - - - +\n",
      "/         /         /\n",
      "/         /         /\n",
      "/         /         /\n",
      "/         /         /\n"
     ]
    }
   ],
   "source": [
    "do_twice(print_top_half)"
   ]
  },
  {
   "cell_type": "code",
   "execution_count": 11,
   "id": "ebb95d99",
   "metadata": {},
   "outputs": [
    {
     "name": "stdout",
     "output_type": "stream",
     "text": [
      "+ - - - - + - - - - +\n"
     ]
    }
   ],
   "source": [
    "print_full_beam()"
   ]
  },
  {
   "cell_type": "code",
   "execution_count": 12,
   "id": "76ae7de2",
   "metadata": {},
   "outputs": [
    {
     "name": "stdout",
     "output_type": "stream",
     "text": [
      "+ - - - - + - - - - +\n",
      "/         /         /\n",
      "/         /         /\n",
      "/         /         /\n",
      "/         /         /\n",
      "+ - - - - + - - - - +\n",
      "/         /         /\n",
      "/         /         /\n",
      "/         /         /\n",
      "/         /         /\n",
      "+ - - - - + - - - - +\n"
     ]
    }
   ],
   "source": [
    "do_twice(print_top_half)\n",
    "print_full_beam()"
   ]
  },
  {
   "cell_type": "markdown",
   "id": "80e32a93",
   "metadata": {},
   "source": [
    "2. Write a function that draws a similar grid with four rows and four columns."
   ]
  },
  {
   "cell_type": "code",
   "execution_count": 20,
   "id": "416148c0",
   "metadata": {},
   "outputs": [],
   "source": [
    "def print_4_beam():\n",
    "    do_4xs(print_beam)\n",
    "    print('+')\n",
    "def print_4_struct():\n",
    "    do_4xs(print_struct)\n",
    "    print('/')\n",
    "def print_4_half():\n",
    "    print_4_beam()\n",
    "    do_4xs(print_4_struct)"
   ]
  },
  {
   "cell_type": "code",
   "execution_count": 21,
   "id": "0a8b7658",
   "metadata": {},
   "outputs": [
    {
     "name": "stdout",
     "output_type": "stream",
     "text": [
      "+ - - - - + - - - - + - - - - + - - - - +\n",
      "/         /         /         /         /\n",
      "/         /         /         /         /\n",
      "/         /         /         /         /\n",
      "/         /         /         /         /\n",
      "+ - - - - + - - - - + - - - - + - - - - +\n",
      "/         /         /         /         /\n",
      "/         /         /         /         /\n",
      "/         /         /         /         /\n",
      "/         /         /         /         /\n",
      "+ - - - - + - - - - + - - - - + - - - - +\n",
      "/         /         /         /         /\n",
      "/         /         /         /         /\n",
      "/         /         /         /         /\n",
      "/         /         /         /         /\n",
      "+ - - - - + - - - - + - - - - + - - - - +\n",
      "/         /         /         /         /\n",
      "/         /         /         /         /\n",
      "/         /         /         /         /\n",
      "/         /         /         /         /\n",
      "+ - - - - + - - - - + - - - - + - - - - +\n"
     ]
    }
   ],
   "source": [
    "do_4xs(print_4_half)\n",
    "print_4_beam()"
   ]
  },
  {
   "cell_type": "code",
   "execution_count": null,
   "id": "c23b2351",
   "metadata": {},
   "outputs": [],
   "source": []
  }
 ],
 "metadata": {
  "kernelspec": {
   "display_name": "Python 3 (ipykernel)",
   "language": "python",
   "name": "python3"
  },
  "language_info": {
   "codemirror_mode": {
    "name": "ipython",
    "version": 3
   },
   "file_extension": ".py",
   "mimetype": "text/x-python",
   "name": "python",
   "nbconvert_exporter": "python",
   "pygments_lexer": "ipython3",
   "version": "3.9.13"
  }
 },
 "nbformat": 4,
 "nbformat_minor": 5
}
