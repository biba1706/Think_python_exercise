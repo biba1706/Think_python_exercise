{
 "cells": [
  {
   "cell_type": "markdown",
   "id": "4c150379",
   "metadata": {},
   "source": [
    "## Chapter 2 - Variables, expressions and statements\n",
    "\n",
    "### Ex-2.1"
   ]
  },
  {
   "cell_type": "markdown",
   "id": "fb4abcd6",
   "metadata": {},
   "source": [
    "1. We’ve seen that n = 42 is legal. What about 42 = n?"
   ]
  },
  {
   "cell_type": "code",
   "execution_count": 1,
   "id": "94a59dce",
   "metadata": {},
   "outputs": [
    {
     "ename": "SyntaxError",
     "evalue": "cannot assign to literal (1956984606.py, line 1)",
     "output_type": "error",
     "traceback": [
      "\u001b[0;36m  File \u001b[0;32m\"/tmp/ipykernel_8848/1956984606.py\"\u001b[0;36m, line \u001b[0;32m1\u001b[0m\n\u001b[0;31m    42=n\u001b[0m\n\u001b[0m    ^\u001b[0m\n\u001b[0;31mSyntaxError\u001b[0m\u001b[0;31m:\u001b[0m cannot assign to literal\n"
     ]
    }
   ],
   "source": [
    "42=n"
   ]
  },
  {
   "cell_type": "markdown",
   "id": "8d0f80e6",
   "metadata": {},
   "source": [
    "2. How about x = y = 1?"
   ]
  },
  {
   "cell_type": "code",
   "execution_count": 2,
   "id": "364fb454",
   "metadata": {},
   "outputs": [],
   "source": [
    "x=y=1 # x and y both will be one "
   ]
  },
  {
   "cell_type": "markdown",
   "id": "b1f0cbe0",
   "metadata": {},
   "source": [
    "3.In some languages every statement ends with a semi-colon, ;. What happens if you put a semi-colon at the end of a Python statement?"
   ]
  },
  {
   "cell_type": "code",
   "execution_count": 5,
   "id": "35f546c1",
   "metadata": {},
   "outputs": [],
   "source": [
    "x = 500; y = 17; z = 899; #Nothing. In fact, we can use it to put several statements on one line:"
   ]
  },
  {
   "cell_type": "code",
   "execution_count": 6,
   "id": "3667789f",
   "metadata": {},
   "outputs": [
    {
     "name": "stdout",
     "output_type": "stream",
     "text": [
      "500 17 899\n"
     ]
    }
   ],
   "source": [
    "print(x, y, z)"
   ]
  },
  {
   "cell_type": "markdown",
   "id": "cc0f1124",
   "metadata": {},
   "source": [
    "4. What if you put a period at the end of a statement?"
   ]
  },
  {
   "cell_type": "code",
   "execution_count": 7,
   "id": "a16edb4d",
   "metadata": {},
   "outputs": [],
   "source": [
    "x = 69. # In this case, Python will treat the period as a decimal and convert an integer into a float."
   ]
  },
  {
   "cell_type": "code",
   "execution_count": 8,
   "id": "7579d59f",
   "metadata": {},
   "outputs": [
    {
     "name": "stdout",
     "output_type": "stream",
     "text": [
      "69.0\n"
     ]
    }
   ],
   "source": [
    "print(x)"
   ]
  },
  {
   "cell_type": "markdown",
   "id": "cb605032",
   "metadata": {},
   "source": [
    "5. In math notation you can multiply x and y like this:xy. What happens if you try that in Python?"
   ]
  },
  {
   "cell_type": "code",
   "execution_count": 9,
   "id": "0734fecd",
   "metadata": {},
   "outputs": [
    {
     "ename": "NameError",
     "evalue": "name 'xy' is not defined",
     "output_type": "error",
     "traceback": [
      "\u001b[0;31m---------------------------------------------------------------------------\u001b[0m",
      "\u001b[0;31mNameError\u001b[0m                                 Traceback (most recent call last)",
      "\u001b[0;32m/tmp/ipykernel_8848/362575744.py\u001b[0m in \u001b[0;36m<module>\u001b[0;34m\u001b[0m\n\u001b[1;32m      1\u001b[0m \u001b[0mx\u001b[0m \u001b[0;34m=\u001b[0m \u001b[0;36m10\u001b[0m\u001b[0;34m;\u001b[0m \u001b[0my\u001b[0m \u001b[0;34m=\u001b[0m \u001b[0;36m5\u001b[0m\u001b[0;34m;\u001b[0m\u001b[0;34m\u001b[0m\u001b[0;34m\u001b[0m\u001b[0m\n\u001b[0;32m----> 2\u001b[0;31m \u001b[0mxy\u001b[0m\u001b[0;34m\u001b[0m\u001b[0;34m\u001b[0m\u001b[0m\n\u001b[0m",
      "\u001b[0;31mNameError\u001b[0m: name 'xy' is not defined"
     ]
    }
   ],
   "source": [
    "x = 10; y = 5;\n",
    "xy # Python would treat xy as a new variable and try to find a value for it:"
   ]
  },
  {
   "cell_type": "markdown",
   "id": "f06fe052",
   "metadata": {},
   "source": [
    "### Ex-2.2"
   ]
  },
  {
   "cell_type": "markdown",
   "id": "1006a286",
   "metadata": {},
   "source": [
    "1. The volume of a sphere with radius r is 4/3 pi r^3. What is the volume of a sphere with radius 5?"
   ]
  },
  {
   "cell_type": "code",
   "execution_count": 10,
   "id": "dc12759e",
   "metadata": {},
   "outputs": [
    {
     "data": {
      "text/plain": [
       "523.5986666666666"
      ]
     },
     "execution_count": 10,
     "metadata": {},
     "output_type": "execute_result"
    }
   ],
   "source": [
    "pi = 3.141592\n",
    "\n",
    "(4/3) * pi * (5**3)"
   ]
  },
  {
   "cell_type": "code",
   "execution_count": null,
   "id": "638b7783",
   "metadata": {},
   "outputs": [],
   "source": [
    "# other way to solve is by importing math module \n",
    "import math\n",
    "\n",
    "(4/3) * math.pi * (5**3)"
   ]
  },
  {
   "cell_type": "markdown",
   "id": "8afd8d76",
   "metadata": {},
   "source": [
    "2. Suppose the cover price of a book is $24.95, but bookstores get a 40% discount. Shipping costs $3 for the first copy and 75 cents for each additional copy. What is the total wholesale cost for 60 copies?"
   ]
  },
  {
   "cell_type": "code",
   "execution_count": 12,
   "id": "8e2a30d2",
   "metadata": {},
   "outputs": [
    {
     "data": {
      "text/plain": [
       "945.45"
      ]
     },
     "execution_count": 12,
     "metadata": {},
     "output_type": "execute_result"
    }
   ],
   "source": [
    "copies = 60\n",
    "price = 24.95 * (1 - 0.40)\n",
    "shipping = 3 + (copies - 1) * 0.75\n",
    "round(copies * price + shipping, 2)"
   ]
  },
  {
   "cell_type": "markdown",
   "id": "a0df6192",
   "metadata": {},
   "source": [
    "3. If I leave my house at 6:52 am and run 1 mile at an easy pace (8:15 per mile), then 3 miles at tempo (7:12 per mile) and 1 mile at easy pace again, what time do I get home for breakfast?"
   ]
  },
  {
   "cell_type": "code",
   "execution_count": 13,
   "id": "7c0d622f",
   "metadata": {},
   "outputs": [
    {
     "name": "stdout",
     "output_type": "stream",
     "text": [
      "You'll get home for breakast at 7:30.06.\n"
     ]
    }
   ],
   "source": [
    "# tempi in seconds\n",
    "easy_tempo = (8 * 60) + 15\n",
    "at_tempo = (7 * 60) + 12\n",
    "total_time = (easy_tempo * 2) + (at_tempo * 3)\n",
    "\n",
    "# use floor division to get minutes\n",
    "total_time_min = total_time // 60\n",
    "\n",
    "# use modulo division to get seconds\n",
    "total_time_secs = total_time % 60\n",
    "\n",
    "# departure time in minutes\n",
    "departure_time = (6 * 60) + 52\n",
    "\n",
    "breakfast_hour = (departure_time + total_time_min) // 60\n",
    "breakfast_minute = (departure_time + total_time_min) % 60\n",
    "\n",
    "print(\"You'll get home for breakast at {}:{}.{:02d}.\".format(breakfast_hour,\n",
    "                                            breakfast_minute, total_time_secs))\n"
   ]
  }
 ],
 "metadata": {
  "kernelspec": {
   "display_name": "Python 3 (ipykernel)",
   "language": "python",
   "name": "python3"
  },
  "language_info": {
   "codemirror_mode": {
    "name": "ipython",
    "version": 3
   },
   "file_extension": ".py",
   "mimetype": "text/x-python",
   "name": "python",
   "nbconvert_exporter": "python",
   "pygments_lexer": "ipython3",
   "version": "3.9.13"
  }
 },
 "nbformat": 4,
 "nbformat_minor": 5
}
