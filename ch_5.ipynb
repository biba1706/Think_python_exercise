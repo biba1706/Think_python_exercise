{
 "cells": [
  {
   "cell_type": "markdown",
   "id": "bc36f055",
   "metadata": {},
   "source": [
    "# Think Python\n",
    "\n",
    "## Chapter 5 - Conditionals and recursion\n"
   ]
  },
  {
   "cell_type": "markdown",
   "id": "9bb4fefc",
   "metadata": {},
   "source": [
    "Exercise 1"
   ]
  },
  {
   "cell_type": "markdown",
   "id": "bff697d2",
   "metadata": {},
   "source": [
    "The time module provides a function, also named time, that returns the current Greenwich Mean Time in “the epoch”, which is an arbitrary time used as a reference point. On UNIX systems, the epoch is 1 January 1970.\n",
    "\n",
    "{Python}\n",
    ">>> import time\n",
    ">>> time.time()\n",
    "1437746094.5735958\n",
    "Write a script that reads the current time and converts it to a time of day in hours, minutes, and seconds, plus the number of days since the epoch."
   ]
  },
  {
   "cell_type": "code",
   "execution_count": 1,
   "id": "9db8e51c",
   "metadata": {},
   "outputs": [
    {
     "data": {
      "text/plain": [
       "1684855944.7316072"
      ]
     },
     "execution_count": 1,
     "metadata": {},
     "output_type": "execute_result"
    }
   ],
   "source": [
    "import time\n",
    "time.time()"
   ]
  },
  {
   "cell_type": "markdown",
   "id": "10f664b9",
   "metadata": {},
   "source": [
    "Exercise 2"
   ]
  },
  {
   "cell_type": "code",
   "execution_count": 3,
   "id": "9bec3010",
   "metadata": {},
   "outputs": [],
   "source": [
    "import time\n",
    "\n",
    "def get_time():\n",
    "    \"\"\"Reads and converts current time into the number of\n",
    "    days, hours, minutes and seconds since the epoch\"\"\"\n",
    "    now = time.time()\n",
    "    days = int(now // (60 * 60 *24))\n",
    "    days_remainder = now % (60 * 60 * 24)\n",
    "    hours = int(days_remainder // (60 * 60))\n",
    "    hours_remainder = days_remainder % (60 * 60)\n",
    "    minutes = int(hours_remainder // 60)\n",
    "    seconds = hours_remainder % 60\n",
    "    print(\"{:,} days, {} hours, {} minutes and {:2.3f} seconds have elapsed since 'the epoch'.\".format(days, hours, minutes, seconds))"
   ]
  },
  {
   "cell_type": "code",
   "execution_count": 4,
   "id": "72f4fd78",
   "metadata": {},
   "outputs": [
    {
     "name": "stdout",
     "output_type": "stream",
     "text": [
      "19,500 days, 15 hours, 33 minutes and 16.450 seconds have elapsed since 'the epoch'.\n"
     ]
    }
   ],
   "source": [
    "get_time()"
   ]
  },
  {
   "cell_type": "markdown",
   "id": "8408c941",
   "metadata": {},
   "source": [
    "Exercise 2\n",
    "Fermat’s Last Theorem says that there are no positive integers a,b,and c such that:\n",
    "for any values of \n",
    " greater than 2.\n",
    "\n",
    "Write a function named `check_fermat` that takes four parameters—`a`, `b`, `c` and `n`—and checks to see if Fermat’s theorem holds. If \n",
    " is greater than 2 and\n",
    "the program should print, “Holy smokes, Fermat was wrong!” Otherwise the program should print, “No, that doesn’t work.”\n",
    "\n",
    "Write a function that prompts the user to input values for `a`, `b`, `c` and `n`, converts them to integers, and uses `check_fermat` to check whether they violate Fermat’s theorem."
   ]
  },
  {
   "cell_type": "code",
   "execution_count": 7,
   "id": "87cc98fe",
   "metadata": {},
   "outputs": [],
   "source": [
    "def check_fermat(a, b, c, n):\n",
    "    \"\"\"Checks to see if Fermat's theorem\n",
    "    holds for a, b, and c raised to the nth power.\"\"\"\n",
    "    if n <= 2:\n",
    "        print(\"Sorry, Fermat's theorem only works for exponents larger than two.\")\n",
    "    elif a**n + b**n == c**n:\n",
    "        print(\"Holy smokes, Fermat was wrong!\")\n",
    "    else:\n",
    "        print(\"No, that doesn't work.\")"
   ]
  },
  {
   "cell_type": "code",
   "execution_count": 8,
   "id": "c2ff9dcb",
   "metadata": {},
   "outputs": [
    {
     "name": "stdout",
     "output_type": "stream",
     "text": [
      "No, that doesn't work.\n"
     ]
    }
   ],
   "source": [
    "check_fermat(3, 5,8,7)"
   ]
  },
  {
   "cell_type": "code",
   "execution_count": null,
   "id": "cf289502",
   "metadata": {},
   "outputs": [],
   "source": [
    "def input_fermat():\n",
    "    \"\"\"Checks to see if Fermat's theorem\n",
    "    holds for a, b, and c raised to the nth power.\n",
    "    a, b, c, and n are supplied by the user.\"\"\"\n",
    "    a = input(\"What is the value of 'a'?\\n\")\n",
    "    b = input(\"What is the value of 'b'?\\n\")\n",
    "    c = input(\"What is the value of 'c'?\\n\")\n",
    "    n = input(\"What is the value of 'n'?\\n\")\n",
    "    print(\"\\n\")\n",
    "    return check_fermat(int(a), int(b), int(c), int(n))"
   ]
  },
  {
   "cell_type": "markdown",
   "id": "33aaf1a5",
   "metadata": {},
   "source": [
    "Exercise 3"
   ]
  },
  {
   "cell_type": "markdown",
   "id": "4cafa261",
   "metadata": {},
   "source": [
    "If you are given three sticks, you may or may not be able to arrange them in a triangle. For example, if one of the sticks is 12 inches long and the other two are one inch long, you will not be able to get the short sticks to meet in the middle. For any three lengths, there is a simple test to see if it is possible to form a triangle:\n",
    "\n",
    "If any of the three lengths is greater than the sum of the other two, then you cannot form a triangle. Otherwise, you can. (If the sum of two lengths equals the third, they form what is called a “degenerate” triangle.)\n",
    "\n",
    "1. Write a function named `is_triangle` that takes three integers as arguments, and that prints either “Yes” or “No”, depending on whether you can or cannot form a triangle from sticks with the given lengths.\n",
    "2. Write a function that prompts the user to input three stick lengths, converts them to integers, and uses `is_triangle` to check whether sticks with the given lengths can form a triangle."
   ]
  },
  {
   "cell_type": "code",
   "execution_count": 10,
   "id": "2690700e",
   "metadata": {},
   "outputs": [],
   "source": [
    "def is_triangle(a, b, c):\n",
    "    \"\"\"Determines if a triangle can be formed from sticks\n",
    "    of lengths a, b, and c.\"\"\"\n",
    "    if a >= b and a >= c:\n",
    "        long = a\n",
    "        short1, short2 = b, c\n",
    "    elif b >= c and b >= a:\n",
    "        long = b\n",
    "        short1, short2 = a, c\n",
    "    else:\n",
    "        long = c\n",
    "        short1, short2 = a, b\n",
    "    if long > short1 + short2:\n",
    "        print(\"No.\")\n",
    "    else:\n",
    "        print(\"Yes.\")\n",
    "    "
   ]
  },
  {
   "cell_type": "code",
   "execution_count": 12,
   "id": "9711e6f7",
   "metadata": {},
   "outputs": [
    {
     "name": "stdout",
     "output_type": "stream",
     "text": [
      "No.\n"
     ]
    }
   ],
   "source": [
    "is_triangle(8, 9, 25)"
   ]
  },
  {
   "cell_type": "code",
   "execution_count": 13,
   "id": "51f73134",
   "metadata": {},
   "outputs": [],
   "source": [
    "def get_triangle():\n",
    "    \"\"\"Determines if a triangle can be formed from sticks\n",
    "    of lengths a, b, and c. a, b, and c are supplied by\n",
    "    the user.\"\"\"\n",
    "    a = input(\"What is the length of the first stick?\\n\")\n",
    "    b = input(\"What is the length of the second stick?\\n\")\n",
    "    c = input(\"What is the length of the third stick?\\n\")\n",
    "    print(\"\\n\")\n",
    "    is_triangle(int(a), int(b), int(c))"
   ]
  },
  {
   "cell_type": "code",
   "execution_count": 14,
   "id": "ceed2377",
   "metadata": {},
   "outputs": [
    {
     "name": "stdout",
     "output_type": "stream",
     "text": [
      "What is the length of the first stick?\n",
      "4\n",
      "What is the length of the second stick?\n",
      "4\n",
      "What is the length of the third stick?\n",
      "8\n",
      "\n",
      "\n",
      "Yes.\n"
     ]
    }
   ],
   "source": [
    "get_triangle()"
   ]
  },
  {
   "cell_type": "markdown",
   "id": "5f5576fd",
   "metadata": {},
   "source": [
    "Exercise 4"
   ]
  },
  {
   "cell_type": "markdown",
   "id": "22ca9572",
   "metadata": {},
   "source": [
    "What is the output of the following program? Draw a stack diagram that shows the state of the program when it prints the result.\n",
    "\n",
    "{Python}\n",
    "def recurse(n, s):\n",
    "    \"\"\"Function calls itself recursively until n reaches 0.\n",
    "    At each call, s is the sum of n and s from the previous \n",
    "    call.\n",
    "    \"\"\"\n",
    "    if n == 0:\n",
    "        print(s)\n",
    "    else:\n",
    "        recurse(n-1, n+s)\n",
    "\n",
    "recurse(3, 0)\n",
    "\n",
    "What would happen if you called this function like this: recurse(-1, 0)?\n",
    "The code would go into infinite recursion.\n",
    "\n",
    "\n",
    "Write a docstring that explains everything someone would need to know in order to use this function (and nothing else).\n"
   ]
  },
  {
   "cell_type": "code",
   "execution_count": 23,
   "id": "0a0f4cb6",
   "metadata": {},
   "outputs": [
    {
     "name": "stdout",
     "output_type": "stream",
     "text": [
      "6\n"
     ]
    }
   ],
   "source": [
    "def recurse(n, s):\n",
    "    \"\"\"Function calls itself recursively until n reaches 0.\n",
    "    At each call, s is the sum of n and s from the previous \n",
    "    call.\n",
    "    \"\"\"\n",
    "    if n == 0:\n",
    "        print(s)\n",
    "    else:\n",
    "        recurse(n-1, n+s)\n",
    "\n",
    "recurse(3, 0)"
   ]
  },
  {
   "cell_type": "code",
   "execution_count": null,
   "id": "b85cd877",
   "metadata": {},
   "outputs": [],
   "source": [
    "recurse(-1, 0)"
   ]
  },
  {
   "cell_type": "markdown",
   "id": "518bf9c1",
   "metadata": {},
   "source": [
    "The code would go into infinite recursion."
   ]
  },
  {
   "cell_type": "code",
   "execution_count": null,
   "id": "e61b23f9",
   "metadata": {},
   "outputs": [],
   "source": []
  }
 ],
 "metadata": {
  "kernelspec": {
   "display_name": "Python 3 (ipykernel)",
   "language": "python",
   "name": "python3"
  },
  "language_info": {
   "codemirror_mode": {
    "name": "ipython",
    "version": 3
   },
   "file_extension": ".py",
   "mimetype": "text/x-python",
   "name": "python",
   "nbconvert_exporter": "python",
   "pygments_lexer": "ipython3",
   "version": "3.9.13"
  }
 },
 "nbformat": 4,
 "nbformat_minor": 5
}
